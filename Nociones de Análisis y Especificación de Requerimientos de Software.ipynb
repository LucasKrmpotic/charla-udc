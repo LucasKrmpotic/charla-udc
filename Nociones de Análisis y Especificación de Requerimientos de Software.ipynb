{
 "cells": [
  {
   "cell_type": "markdown",
   "metadata": {},
   "source": [
    "# Nociones de Análisis y Especificación de Requerimientos de Software\n",
    "- **APU Luciano Serruya Aloisi** lucianoserruya@gmail.com\n",
    "- **APU Lucas Krmpotic** lucas.krmpotic@gmail.com"
   ]
  },
  {
   "cell_type": "markdown",
   "metadata": {},
   "source": [
    "# Ecosistema IoT para el control de caudales en canales de riego"
   ]
  },
  {
   "cell_type": "markdown",
   "metadata": {
    "collapsed": true
   },
   "source": [
    "El protocolo de comunicación más utilizado para proyectos de IoT es **MQTT**\n",
    "\n",
    "**Datos servidor mqtt gratuito:**\n",
    "- **Dirección:** test.mosquitto.org\n",
    "- **Puerto:** 1883"
   ]
  },
  {
   "cell_type": "markdown",
   "metadata": {
    "collapsed": true
   },
   "source": [
    "#### MQTT\n",
    "\n",
    "Protocolo basado en mensajes, donde se implementa un nodo central conocido como **broker** (encargado de gestionar los tópicos ó temas); los dispositivos **publican** mensajes en un **tópico** del broker y otros dispositivos se **suscriben** a dichos tópicos para recibir los mensajes "
   ]
  },
  {
   "cell_type": "markdown",
   "metadata": {},
   "source": [
    "![](./images/ejemplo-mqtt.png)"
   ]
  },
  {
   "cell_type": "markdown",
   "metadata": {},
   "source": [
    "### Simulación de planta cervecera\n",
    "\n",
    "- [Proyecto en GitHub](https://github.com/LucasKrmpotic/arduino-mqtt-node-red)\n",
    "- [Video mostrando el funcionamiento](https://www.youtube.com/watch?v=uqkqxmfkv90)"
   ]
  },
  {
   "cell_type": "markdown",
   "metadata": {},
   "source": [
    "### Para los que quieran ver algo más de Arduino\n",
    "\n",
    "- [Sitio oficial de Arduino](https://www.arduino.cc/)\n",
    "- [Wiki de Arduino en español](https://playground.arduino.cc/Es/Es)\n",
    "- [Manual de Arduino en español](http://www.ardumania.es/descargas/)\n",
    "- [Tutorial de Arduino + ESP8266](https://www.prometec.net/arduino-wifi/)\n",
    "\n",
    "#### MQTT\n",
    "- [¿Qué es MQTT?](https://geekytheory.com/que-es-mqtt)\n",
    "- [Primeros pasos con MQTT](https://ricveal.com/blog/primeros-pasos-mqtt/)\n",
    "- [MQTT: un protocolo específico para Internet de las Cosas](http://www.digitaldimension.solutions/es/blog-es/opinion-de-expertos/2015/02/mqtt-un-protocolo-especifico-para-el-internet-de-las-cosas/)"
   ]
  },
  {
   "cell_type": "markdown",
   "metadata": {
    "collapsed": true
   },
   "source": [
    "# Aplicación para el cálculo de oferta forrajera"
   ]
  },
  {
   "cell_type": "markdown",
   "metadata": {},
   "source": [
    "## Requerimientos funcionales (servicios)\n",
    "\n",
    "#### La aplicación deberá calcular la oferta forrajera de un determinado campo a partir de los siguies datos: \n",
    "\n",
    "    1) Zona (Ingresada por el usuario)\n",
    "   \n",
    "    2) Época del año (censada por el teléfono)\n",
    "   \n",
    "    3) Historia climática y el último clima registrado (consultada a la base de datos \"..[nombre de la base de datos]..\" del INTA)\n",
    "\n",
    "    4) Parcelas (Una subdivisión arbitraria del campo ingresada por el usuario)\n",
    "        4.1) Cantidad de ha\n",
    "\n",
    "            4.1.1) Especies (Ingresada por el usuario)\n",
    "   \n",
    "                   4.1.1.1) Cobertura (Ingresada por el usuario)\n",
    "      \n",
    "    5) El estado fenológico (consulta a la base de datos \"..[nombre de la BD]..\" a partir de la especie, zona, clima y epoca del año)\n",
    "    "
   ]
  },
  {
   "cell_type": "markdown",
   "metadata": {},
   "source": [
    "***\n",
    "### 1) Zona\n",
    "   \n",
    "    La zona en la que se encuentra el campo será ingresada por el usuario. En caso de contar con conectividad la aplicación sugerirá la zona a partir de la geolocalización del teléfono. Si así no fuera, el usuario  seleccionará la zona a partir de una lista desplegable de zonas. \n",
    "   \n",
    "   **Cuestiones a resolver:**\n",
    "   \n",
    "       1) ¿Cómo se establecen las zonas? ¿Cuál es el criterio de zonificación y por qué? \n",
    "***\n",
    "### 2) Época del año\n",
    "\n",
    "   La época del año se establecerá a partir de la fecha del dispositivo móvil. En caso de contar con conectividad la aplicación podrá validad la correctitud de la fecha a partir de una consulta [NTP](https://es.wikipedia.org/wiki/Network_Time_Protocol). \n",
    "   \n",
    "   Una **época del año** se establece a partir de un rango de fechas. \n",
    "   \n",
    "   Por ejemplo: \n",
    "   \n",
    "   | fecha inicial | fecha final | nombre de la epoca del año | \n",
    "   |:-------------:|:-----------:|:--------------------------:|\n",
    "   | 21/3          | 20/6        | Otoño |\n",
    "   | 21/6          | 20/9        | Invierno | \n",
    "   | 21/9          | 20/12       | Primavera |\n",
    "   | 21/12         | 20/3        | Verano |\n",
    "\n",
    "***\n",
    "### 3) Especies\n",
    "\n",
    "   El usuario deberá ingresar todas las especies existentes en su campo. Por cada una además deberá ingresar la cobertura. \n",
    "   \n",
    "   Para facilitar el ingreso de cada especie la aplicación mostrará fotos de especies (ya que no se supone que el usuario conozca los nombres de todas las especies existentes en su campo). La aplicación irá mostrando las fotos de acuerdo a la probabilidad de que exista la expecie en el campo según la **zona** y las fótos se corresponderán con el **estádo fenológico** probable de la **especie** en función de la **época del año** y del **clima**. \n",
    "   \n",
    "   Las fotos se seleccionarán de una tabla de datos con la siguiente estructura:\n",
    "   \n",
    "   | NOMBRE DE LA ESPECIE | ESTADO FENOLOGICO | FOTO | \n",
    "   | :------------------: | :---------------: | :--: |\n",
    "   | especie 1 | estado 1 | foto | \n",
    "   \n",
    "   \n",
    "   Además la aplicación contará con otra tabla con las siguientes características:\n",
    "   \n",
    "   | ESPECIE| ZONA | EPOCA DEL AÑO | CLIMA  | ESTADO FENOLOGICO |\n",
    "   | :-----:| :---:| :-----------: | :----: | :---------------: |\n",
    "   \n",
    "   \n",
    "   **Cuestiones a resolver:**\n",
    "   \n",
    "   1) ¿?\n",
    "   \n",
    "   \n",
    "   \n",
    "tabla = epoca, zona,clima, **estado** \n",
    "tabla2 = estado, oferta \n",
    "\n",
    "La oferta forrajera de una ha es la suma de las ofertas forrajeras de cada especie registrada.\n",
    "\n",
    "la oferta forrajera total es la multiplicación kpor unidad de medida. "
   ]
  }
 ],
 "metadata": {
  "kernelspec": {
   "display_name": "Python 3",
   "language": "python",
   "name": "python3"
  },
  "language_info": {
   "codemirror_mode": {
    "name": "ipython",
    "version": 3
   },
   "file_extension": ".py",
   "mimetype": "text/x-python",
   "name": "python",
   "nbconvert_exporter": "python",
   "pygments_lexer": "ipython3",
   "version": "3.7.2"
  }
 },
 "nbformat": 4,
 "nbformat_minor": 2
}
